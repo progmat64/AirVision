{
 "cells": [
  {
   "cell_type": "code",
   "execution_count": null,
   "id": "4c0c9873",
   "metadata": {
    "vscode": {
     "languageId": "plaintext"
    }
   },
   "outputs": [],
   "source": [
    "!yolo detect train \\\n",
    "  model=yolo11s.pt \\\n",
    "  data=dataset/data.yaml \\\n",
    "  epochs=200 \\\n",
    "  imgsz=640 \\\n",
    "  batch=16 \\\n",
    "  device=0 \\\n",
    "  patience=5 \\\n",
    "  project=runs/train \\\n",
    "  name=exp_yolo11s \\\n",
    "  pretrained=True"
   ]
  }
 ],
 "metadata": {
  "language_info": {
   "name": "python"
  }
 },
 "nbformat": 4,
 "nbformat_minor": 5
}
